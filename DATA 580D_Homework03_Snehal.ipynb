{
 "cells": [
  {
   "cell_type": "markdown",
   "metadata": {},
   "source": [
    "## 1. Scrape Stock Data for a Single Company"
   ]
  },
  {
   "cell_type": "code",
   "execution_count": 4,
   "metadata": {},
   "outputs": [
    {
     "name": "stdout",
     "output_type": "stream",
     "text": [
      "Stock data for TSLA saved to JSON, CSV, and Excel files.\n"
     ]
    }
   ],
   "source": [
    "import yfinance as yf\n",
    "import pandas as pd\n",
    "\n",
    "# Define the ticker symbol for Tesla\n",
    "ticker_symbol = 'TSLA'\n",
    "\n",
    "# Fetch the stock data\n",
    "stock = yf.Ticker(ticker_symbol)\n",
    "\n",
    "# Extract the required information with checks for None values\n",
    "stock_info = {\n",
    "    'Stock Name': stock.info.get('longName', 'N/A'),\n",
    "    'Price': stock.info.get('currentPrice', 'N/A'),\n",
    "    'Change': stock.info.get('regularMarketChange', 'N/A'),\n",
    "    'Previous Close': stock.info.get('previousClose', 'N/A'),\n",
    "    'Open': stock.info.get('open', 'N/A'),\n",
    "    'Bid': stock.info.get('bid', 'N/A'),\n",
    "    'Ask': stock.info.get('ask', 'N/A'),\n",
    "    \"Day's Range\": (\n",
    "        f\"{stock.info.get('dayLow', 'N/A')} - {stock.info.get('dayHigh', 'N/A')}\"\n",
    "        if stock.info.get('dayLow') is not None and stock.info.get('dayHigh') is not None\n",
    "        else 'N/A'\n",
    "    ),\n",
    "    '52 Week Range': (\n",
    "        f\"{stock.info.get('fiftyTwoWeekLow', 'N/A')} - {stock.info.get('fiftyTwoWeekHigh', 'N/A')}\"\n",
    "        if stock.info.get('fiftyTwoWeekLow') is not None and stock.info.get('fiftyTwoWeekHigh') is not None\n",
    "        else 'N/A'\n",
    "    ),\n",
    "    'Volume': stock.info.get('volume', 'N/A'),\n",
    "    'Avg. Volume': stock.info.get('averageVolume', 'N/A'),\n",
    "    'Market Cap': stock.info.get('marketCap', 'N/A'),\n",
    "    'Beta': stock.info.get('beta', 'N/A'),\n",
    "    'PE Ratio (TTM)': stock.info.get('trailingPE', 'N/A'),\n",
    "    'EPS': stock.info.get('trailingEps', 'N/A'),\n",
    "    'Earnings Date': (\n",
    "        pd.to_datetime(stock.info.get('earningsDate', 'N/A')[0]).strftime('%Y-%m-%d')\n",
    "        if stock.info.get('earningsDate') is not None\n",
    "        else 'N/A'\n",
    "    ),\n",
    "    'Forward Dividend & Yield': (\n",
    "        f\"{stock.info.get('dividendRate', 'N/A')} \"\n",
    "        f\"({stock.info.get('dividendYield', 0) * 100:.2f}%)\"\n",
    "        if stock.info.get('dividendYield') is not None\n",
    "        else 'N/A'\n",
    "    ),\n",
    "    'Ex-Dividend Date': (\n",
    "        pd.to_datetime(stock.info.get('exDividendDate', 'N/A')).strftime('%Y-%m-%d')\n",
    "        if stock.info.get('exDividendDate') is not None\n",
    "        else 'N/A'\n",
    "    ),\n",
    "    '1y Target Est': stock.info.get('targetMeanPrice', 'N/A')\n",
    "}\n",
    "\n",
    "# Convert the dictionary to a DataFrame\n",
    "stock_df = pd.DataFrame([stock_info])\n",
    "\n",
    "# Save the data to JSON, CSV, and Excel files\n",
    "stock_df.to_json('TSLA_stock_data.json', orient='records', lines=True)\n",
    "stock_df.to_csv('TSLA_stock_data.csv', index=False)\n",
    "stock_df.to_excel('TSLA_stock_data.xlsx', index=False)\n",
    "\n",
    "print(\"Stock data for TSLA saved to JSON, CSV, and Excel files.\")"
   ]
  },
  {
   "cell_type": "markdown",
   "metadata": {},
   "source": [
    "## 2: Transpose Stock Data in Horizontal Format"
   ]
  },
  {
   "cell_type": "code",
   "execution_count": 5,
   "metadata": {},
   "outputs": [
    {
     "name": "stdout",
     "output_type": "stream",
     "text": [
      "Transposed stock data for TSLA saved to Excel.\n"
     ]
    }
   ],
   "source": [
    "import pandas as pd\n",
    "\n",
    "# Load the previously saved stock data\n",
    "df = pd.read_json('TSLA_stock_data.json', lines=True)\n",
    "\n",
    "# Transpose the DataFrame\n",
    "df_transposed = df.transpose()\n",
    "\n",
    "# Save the transposed data to Excel\n",
    "df_transposed.to_excel('TSLA_stock_data_horizontal.xlsx', header=False)\n",
    "\n",
    "print(\"Transposed stock data for TSLA saved to Excel.\")"
   ]
  },
  {
   "cell_type": "markdown",
   "metadata": {},
   "source": [
    "## 3. Stock Data with different companies."
   ]
  },
  {
   "cell_type": "code",
   "execution_count": 1,
   "metadata": {},
   "outputs": [],
   "source": [
    "import yfinance as yf\n",
    "import pandas as pd\n",
    "\n",
    "# List of ticker symbols for the companies\n",
    "ticker_symbols = ['TSLA', 'AAPL', 'MSFT', 'GOOGL', 'AMZN', 'FB']\n",
    "\n",
    "# Initialize an empty list to hold the stock information\n",
    "stocks_info = []\n",
    "\n",
    "# Loop through each ticker symbol\n",
    "for ticker_symbol in ticker_symbols:\n",
    "    # Fetch the stock data\n",
    "    stock = yf.Ticker(ticker_symbol)\n",
    "    info = stock.info\n",
    "\n",
    "    # Extract the required information with checks for None values\n",
    "    stock_info = {\n",
    "        'Ticker Symbol': ticker_symbol,\n",
    "        'Stock Name': info.get('longName', 'N/A'),\n",
    "        'Price': info.get('currentPrice', 'N/A'),\n",
    "        'Change': info.get('regularMarketChange', 'N/A'),\n",
    "        'Previous Close': info.get('previousClose', 'N/A'),\n",
    "        'Open': info.get('open', 'N/A'),\n",
    "        'Bid': info.get('bid', 'N/A'),\n",
    "        'Ask': info.get('ask', 'N/A'),\n",
    "        \"Day's Range\": f\"{info.get('dayLow', 'N/A')} - {info.get('dayHigh', 'N/A')}\",\n",
    "        '52 Week Range': f\"{info.get('fiftyTwoWeekLow', 'N/A')} - {info.get('fiftyTwoWeekHigh', 'N/A')}\",\n",
    "        'Volume': info.get('volume', 'N/A'),\n",
    "        'Avg. Volume': info.get('averageVolume', 'N/A'),\n",
    "        'Market Cap': info.get('marketCap', 'N/A'),\n",
    "        'Beta': info.get('beta', 'N/A'),\n",
    "        'PE Ratio (TTM)': info.get('trailingPE', 'N/A'),\n",
    "        'EPS': info.get('trailingEps', 'N/A'),\n",
    "        'Earnings Date': info.get('earningsDate', 'N/A'),\n",
    "        'Forward Dividend & Yield': (\n",
    "            f\"{info.get('dividendRate', 'N/A')} ({info.get('dividendYield', 0) * 100:.2f}%)\"\n",
    "            if info.get('dividendYield') is not None else 'N/A'\n",
    "        ),\n",
    "        'Ex-Dividend Date': info.get('exDividendDate', 'N/A'),\n",
    "        '1y Target Est': info.get('targetMeanPrice', 'N/A')\n",
    "    }\n",
    "\n",
    "    # Append the dictionary to the list\n",
    "    stocks_info.append(stock_info)\n",
    "\n",
    "# Convert the list of dictionaries to a DataFrame\n",
    "stocks_df = pd.DataFrame(stocks_info)\n",
    "\n",
    "# Save the data to an Excel file\n",
    "stocks_df.to_excel('stocks_data.xlsx', index=False)\n"
   ]
  }
 ],
 "metadata": {
  "kernelspec": {
   "display_name": "Python 3",
   "language": "python",
   "name": "python3"
  },
  "language_info": {
   "codemirror_mode": {
    "name": "ipython",
    "version": 3
   },
   "file_extension": ".py",
   "mimetype": "text/x-python",
   "name": "python",
   "nbconvert_exporter": "python",
   "pygments_lexer": "ipython3",
   "version": "3.13.1"
  }
 },
 "nbformat": 4,
 "nbformat_minor": 4
}
